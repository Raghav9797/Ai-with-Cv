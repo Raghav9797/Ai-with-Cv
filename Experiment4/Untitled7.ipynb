{
 "cells": [
  {
   "cell_type": "code",
   "execution_count": 1,
   "id": "ebba7862-c240-4015-b637-8580472d6b66",
   "metadata": {},
   "outputs": [
    {
     "name": "stdout",
     "output_type": "stream",
     "text": [
      "Processing instance: ['Morning', 'Sunny', 'Warm', 'Yes', 'Mild', 'Strong'] Label: Yes\n",
      " (S): ['Morning', 'Sunny', 'Warm', 'Yes', 'Mild', 'Strong']\n",
      " (G): [['?', '?', '?', '?', '?', '?'], ['?', '?', '?', '?', '?', '?'], ['?', '?', '?', '?', '?', '?'], ['?', '?', '?', '?', '?', '?'], ['?', '?', '?', '?', '?', '?'], ['?', '?', '?', '?', '?', '?']]\n",
      "Processing instance: ['Evening', 'Rainy', 'Cold', 'No', 'Mild', 'Normal'] Label: No\n",
      " (S): ['Morning', 'Sunny', 'Warm', 'Yes', 'Mild', 'Strong']\n",
      " (G): [['Morning', '?', '?', '?', '?', '?'], ['?', 'Sunny', '?', '?', '?', '?'], ['?', '?', 'Warm', '?', '?', '?'], ['?', '?', '?', 'Yes', '?', '?'], ['?', '?', '?', '?', '?', 'Strong']]\n",
      "Processing instance: ['Morning', 'Sunny', 'Moderate', 'Yes', 'Normal', 'Normal'] Label: Yes\n",
      " (S): ['Morning', 'Sunny', '?', 'Yes', '?', '?']\n",
      " (G): [['Morning', '?', '?', '?', '?', '?'], ['?', 'Sunny', '?', '?', '?', '?'], ['?', '?', 'Warm', '?', '?', '?'], ['?', '?', '?', 'Yes', '?', '?'], ['?', '?', '?', '?', '?', 'Strong']]\n",
      "Processing instance: ['Evening', 'Sunny', 'Cold', 'Yes', 'High', 'Strong'] Label: Yes\n",
      " (S): ['?', 'Sunny', '?', 'Yes', '?', '?']\n",
      " (G): [['Morning', '?', '?', '?', '?', '?'], ['?', 'Sunny', '?', '?', '?', '?'], ['?', '?', 'Warm', '?', '?', '?'], ['?', '?', '?', 'Yes', '?', '?'], ['?', '?', '?', '?', '?', 'Strong']]\n",
      "Final  (S): ['?', 'Sunny', '?', 'Yes', '?', '?']\n",
      "Final  (G): [['?', 'Sunny', '?', '?', '?', '?'], ['?', '?', '?', 'Yes', '?', '?']]\n"
     ]
    }
   ],
   "source": [
    "import copy, pandas as pd\n",
    "def const(h, e): return all(x=='?' or x==y for x,y in zip(h,e))\n",
    "def update_pos(G, S, e):\n",
    "    for j in range(len(S)):\n",
    "        S[j] = '?' if S[j]!='Null' and S[j]!=e[j] else e[j]\n",
    "def update_neg(G, S, e):\n",
    "    new_G = []\n",
    "    for g in G:\n",
    "        if const(g,e):\n",
    "            for i in range(len(e)):\n",
    "                if S[i]!='?' and S[i]!='Null' and e[i]!=S[i]:\n",
    "                    h = g.copy()\n",
    "                    h[i] = S[i]\n",
    "                    if h not in new_G: new_G.append(h)\n",
    "        else: new_G.append(g)\n",
    "    return new_G\n",
    "def sync(G, S): return [g for g in G if all(g[i]=='?' or g[i]==S[i] for i in range(len(S)))]\n",
    "data = pd.read_csv('Weather.csv')\n",
    "instances = data.values.tolist()\n",
    "G = [['?']*len(instances[0][:-1]) for _ in range(len(instances[0][:-1]))]\n",
    "S = ['Null']*len(instances[0][:-1])\n",
    "for instance in instances:\n",
    "    e, l = instance[:-1], instance[-1]\n",
    "    print(\"Processing instance:\", e, \"Label:\", l)\n",
    "    if l=='Yes': update_pos(G,S,e)\n",
    "    else: G = update_neg(G,S,e)\n",
    "    print(\" (S):\", S)\n",
    "    print(\" (G):\", G)\n",
    "G = sync(G,S)\n",
    "print(\"Final  (S):\", S)\n",
    "print(\"Final  (G):\", G)"
   ]
  },
  {
   "cell_type": "code",
   "execution_count": null,
   "id": "1cca7c13-ed7d-4bc8-8dec-21674a8c4a39",
   "metadata": {},
   "outputs": [],
   "source": []
  },
  {
   "cell_type": "code",
   "execution_count": 1,
   "id": "7ad362c5-cf12-40ef-aa3f-c76d47e6825e",
   "metadata": {},
   "outputs": [
    {
     "data": {
      "text/html": [
       "<div>\n",
       "<style scoped>\n",
       "    .dataframe tbody tr th:only-of-type {\n",
       "        vertical-align: middle;\n",
       "    }\n",
       "\n",
       "    .dataframe tbody tr th {\n",
       "        vertical-align: top;\n",
       "    }\n",
       "\n",
       "    .dataframe thead th {\n",
       "        text-align: right;\n",
       "    }\n",
       "</style>\n",
       "<table border=\"1\" class=\"dataframe\">\n",
       "  <thead>\n",
       "    <tr style=\"text-align: right;\">\n",
       "      <th></th>\n",
       "      <th>Name</th>\n",
       "      <th>Age</th>\n",
       "      <th>Gender</th>\n",
       "      <th>Marks</th>\n",
       "    </tr>\n",
       "  </thead>\n",
       "  <tbody>\n",
       "    <tr>\n",
       "      <th>0</th>\n",
       "      <td>Jai</td>\n",
       "      <td>17</td>\n",
       "      <td>M</td>\n",
       "      <td>90</td>\n",
       "    </tr>\n",
       "    <tr>\n",
       "      <th>1</th>\n",
       "      <td>Princi</td>\n",
       "      <td>17</td>\n",
       "      <td>F</td>\n",
       "      <td>76</td>\n",
       "    </tr>\n",
       "    <tr>\n",
       "      <th>2</th>\n",
       "      <td>Gaurav</td>\n",
       "      <td>18</td>\n",
       "      <td>M</td>\n",
       "      <td>NaN</td>\n",
       "    </tr>\n",
       "    <tr>\n",
       "      <th>3</th>\n",
       "      <td>Anuj</td>\n",
       "      <td>17</td>\n",
       "      <td>M</td>\n",
       "      <td>74</td>\n",
       "    </tr>\n",
       "    <tr>\n",
       "      <th>4</th>\n",
       "      <td>Ravi</td>\n",
       "      <td>18</td>\n",
       "      <td>M</td>\n",
       "      <td>65</td>\n",
       "    </tr>\n",
       "    <tr>\n",
       "      <th>5</th>\n",
       "      <td>Natasha</td>\n",
       "      <td>17</td>\n",
       "      <td>F</td>\n",
       "      <td>NaN</td>\n",
       "    </tr>\n",
       "    <tr>\n",
       "      <th>6</th>\n",
       "      <td>Riya</td>\n",
       "      <td>17</td>\n",
       "      <td>F</td>\n",
       "      <td>71</td>\n",
       "    </tr>\n",
       "  </tbody>\n",
       "</table>\n",
       "</div>"
      ],
      "text/plain": [
       "      Name  Age Gender Marks\n",
       "0      Jai   17      M    90\n",
       "1   Princi   17      F    76\n",
       "2   Gaurav   18      M   NaN\n",
       "3     Anuj   17      M    74\n",
       "4     Ravi   18      M    65\n",
       "5  Natasha   17      F   NaN\n",
       "6     Riya   17      F    71"
      ]
     },
     "execution_count": 1,
     "metadata": {},
     "output_type": "execute_result"
    }
   ],
   "source": [
    "import pandas as pd\n",
    "data = {'Name': ['Jai', 'Princi', 'Gaurav', \n",
    "                 'Anuj', 'Ravi', 'Natasha', 'Riya'],\n",
    "        'Age': [17, 17, 18, 17, 18, 17, 17],\n",
    "        'Gender': ['M', 'F', 'M', 'M', 'M', 'F', 'F'],\n",
    "        'Marks': [90, 76, 'NaN', 74, 65, 'NaN', 71]}\n",
    "df = pd.DataFrame(data)\n",
    "df"
   ]
  },
  {
   "cell_type": "code",
   "execution_count": 14,
   "id": "5bf04c31-a198-4fc8-a1f1-a218d5af157e",
   "metadata": {},
   "outputs": [
    {
     "ename": "ZeroDivisionError",
     "evalue": "division by zero",
     "output_type": "error",
     "traceback": [
      "\u001b[1;31m---------------------------------------------------------------------------\u001b[0m",
      "\u001b[1;31mZeroDivisionError\u001b[0m                         Traceback (most recent call last)",
      "Cell \u001b[1;32mIn[14], line 22\u001b[0m\n\u001b[0;32m     14\u001b[0m   c\u001b[38;5;241m+\u001b[39m\u001b[38;5;241m=\u001b[39m \u001b[38;5;241m1\u001b[39m\n\u001b[0;32m     18\u001b[0m   avg\u001b[38;5;241m+\u001b[39m\u001b[38;5;241m=\u001b[39m ele\n\u001b[1;32m---> 22\u001b[0m \u001b[43mavg\u001b[49m\u001b[38;5;241;43m/\u001b[39;49m\u001b[38;5;241;43m=\u001b[39;49m\u001b[43mc\u001b[49m\n",
      "\u001b[1;31mZeroDivisionError\u001b[0m: division by zero"
     ]
    }
   ],
   "source": [
    "#Dealing with missing values\n",
    "c = avg = 0\n",
    "for ele in df ['Marks']:\n",
    " if str(ele).isnumeric():\n",
    "  c+= 1\n",
    "  avg+= ele\n",
    "avg/=c\n"
   ]
  },
  {
   "cell_type": "code",
   "execution_count": 16,
   "id": "61868ee3-f7e7-4d22-9b15-469a04695149",
   "metadata": {},
   "outputs": [
    {
     "data": {
      "text/html": [
       "<div>\n",
       "<style scoped>\n",
       "    .dataframe tbody tr th:only-of-type {\n",
       "        vertical-align: middle;\n",
       "    }\n",
       "\n",
       "    .dataframe tbody tr th {\n",
       "        vertical-align: top;\n",
       "    }\n",
       "\n",
       "    .dataframe thead th {\n",
       "        text-align: right;\n",
       "    }\n",
       "</style>\n",
       "<table border=\"1\" class=\"dataframe\">\n",
       "  <thead>\n",
       "    <tr style=\"text-align: right;\">\n",
       "      <th></th>\n",
       "      <th>Name</th>\n",
       "      <th>Gender</th>\n",
       "      <th>Marks</th>\n",
       "    </tr>\n",
       "  </thead>\n",
       "  <tbody>\n",
       "    <tr>\n",
       "      <th>0</th>\n",
       "      <td>Jai</td>\n",
       "      <td>NaN</td>\n",
       "      <td>90.0</td>\n",
       "    </tr>\n",
       "    <tr>\n",
       "      <th>1</th>\n",
       "      <td>Princi</td>\n",
       "      <td>NaN</td>\n",
       "      <td>76.0</td>\n",
       "    </tr>\n",
       "    <tr>\n",
       "      <th>2</th>\n",
       "      <td>Gaurav</td>\n",
       "      <td>NaN</td>\n",
       "      <td>75.2</td>\n",
       "    </tr>\n",
       "    <tr>\n",
       "      <th>5</th>\n",
       "      <td>Natasha</td>\n",
       "      <td>NaN</td>\n",
       "      <td>75.2</td>\n",
       "    </tr>\n",
       "  </tbody>\n",
       "</table>\n",
       "</div>"
      ],
      "text/plain": [
       "      Name  Gender  Marks\n",
       "0      Jai     NaN   90.0\n",
       "1   Princi     NaN   76.0\n",
       "2   Gaurav     NaN   75.2\n",
       "5  Natasha     NaN   75.2"
      ]
     },
     "execution_count": 16,
     "metadata": {},
     "output_type": "execute_result"
    }
   ],
   "source": [
    "df = df.replace(to_replace=\"NaN\",\n",
    "                value=avg)\n",
    "df"
   ]
  },
  {
   "cell_type": "code",
   "execution_count": 6,
   "id": "ef3126de-3f7e-443c-add9-bd2195e2d951",
   "metadata": {},
   "outputs": [
    {
     "data": {
      "text/html": [
       "<div>\n",
       "<style scoped>\n",
       "    .dataframe tbody tr th:only-of-type {\n",
       "        vertical-align: middle;\n",
       "    }\n",
       "\n",
       "    .dataframe tbody tr th {\n",
       "        vertical-align: top;\n",
       "    }\n",
       "\n",
       "    .dataframe thead th {\n",
       "        text-align: right;\n",
       "    }\n",
       "</style>\n",
       "<table border=\"1\" class=\"dataframe\">\n",
       "  <thead>\n",
       "    <tr style=\"text-align: right;\">\n",
       "      <th></th>\n",
       "      <th>Name</th>\n",
       "      <th>Gender</th>\n",
       "      <th>Marks</th>\n",
       "    </tr>\n",
       "  </thead>\n",
       "  <tbody>\n",
       "    <tr>\n",
       "      <th>0</th>\n",
       "      <td>Jai</td>\n",
       "      <td>NaN</td>\n",
       "      <td>90.0</td>\n",
       "    </tr>\n",
       "    <tr>\n",
       "      <th>1</th>\n",
       "      <td>Princi</td>\n",
       "      <td>NaN</td>\n",
       "      <td>76.0</td>\n",
       "    </tr>\n",
       "    <tr>\n",
       "      <th>2</th>\n",
       "      <td>Gaurav</td>\n",
       "      <td>NaN</td>\n",
       "      <td>75.2</td>\n",
       "    </tr>\n",
       "    <tr>\n",
       "      <th>5</th>\n",
       "      <td>Natasha</td>\n",
       "      <td>NaN</td>\n",
       "      <td>75.2</td>\n",
       "    </tr>\n",
       "  </tbody>\n",
       "</table>\n",
       "</div>"
      ],
      "text/plain": [
       "      Name  Gender  Marks\n",
       "0      Jai     NaN   90.0\n",
       "1   Princi     NaN   76.0\n",
       "2   Gaurav     NaN   75.2\n",
       "5  Natasha     NaN   75.2"
      ]
     },
     "execution_count": 6,
     "metadata": {},
     "output_type": "execute_result"
    }
   ],
   "source": [
    "#Data Replacing\n",
    "df['Gender'] = df['Gender'].map({'M': 0, 'F': 1}).astype(float)\n",
    "df"
   ]
  },
  {
   "cell_type": "code",
   "execution_count": 4,
   "id": "79265327-633d-4410-b18d-5e88c8f97c2f",
   "metadata": {},
   "outputs": [
    {
     "data": {
      "text/html": [
       "<div>\n",
       "<style scoped>\n",
       "    .dataframe tbody tr th:only-of-type {\n",
       "        vertical-align: middle;\n",
       "    }\n",
       "\n",
       "    .dataframe tbody tr th {\n",
       "        vertical-align: top;\n",
       "    }\n",
       "\n",
       "    .dataframe thead th {\n",
       "        text-align: right;\n",
       "    }\n",
       "</style>\n",
       "<table border=\"1\" class=\"dataframe\">\n",
       "  <thead>\n",
       "    <tr style=\"text-align: right;\">\n",
       "      <th></th>\n",
       "      <th>Name</th>\n",
       "      <th>Gender</th>\n",
       "      <th>Marks</th>\n",
       "    </tr>\n",
       "  </thead>\n",
       "  <tbody>\n",
       "    <tr>\n",
       "      <th>0</th>\n",
       "      <td>Jai</td>\n",
       "      <td>0.0</td>\n",
       "      <td>90.0</td>\n",
       "    </tr>\n",
       "    <tr>\n",
       "      <th>1</th>\n",
       "      <td>Princi</td>\n",
       "      <td>1.0</td>\n",
       "      <td>76.0</td>\n",
       "    </tr>\n",
       "    <tr>\n",
       "      <th>2</th>\n",
       "      <td>Gaurav</td>\n",
       "      <td>0.0</td>\n",
       "      <td>75.2</td>\n",
       "    </tr>\n",
       "    <tr>\n",
       "      <th>5</th>\n",
       "      <td>Natasha</td>\n",
       "      <td>1.0</td>\n",
       "      <td>75.2</td>\n",
       "    </tr>\n",
       "  </tbody>\n",
       "</table>\n",
       "</div>"
      ],
      "text/plain": [
       "      Name  Gender  Marks\n",
       "0      Jai     0.0   90.0\n",
       "1   Princi     1.0   76.0\n",
       "2   Gaurav     0.0   75.2\n",
       "5  Natasha     1.0   75.2"
      ]
     },
     "execution_count": 4,
     "metadata": {},
     "output_type": "execute_result"
    }
   ],
   "source": [
    "#Filtering data\n",
    "df = df[df['Marks'] >= 75].copy()\n",
    "df.drop('Age', axis=1, inplace=True)\n",
    "df"
   ]
  },
  {
   "cell_type": "code",
   "execution_count": 8,
   "id": "a0abff61-ff6c-485e-9ef5-4d7be9b90cfe",
   "metadata": {},
   "outputs": [
    {
     "name": "stdout",
     "output_type": "stream",
     "text": [
      "    ID     NAME BRANCH\n",
      "0  101  Jagroop    CSE\n",
      "1  102  Praveen    CSE\n",
      "2  103   Harjot    CSE\n",
      "3  104    Pooja    CSE\n",
      "4  105    Rahul    CSE\n",
      "5  106   Nikita    CSE\n",
      "6  107  Saurabh    CSE\n",
      "7  108    Ayush    CSE\n",
      "8  109    Dolly    CSE\n",
      "9  110    Mohit    CSE\n"
     ]
    }
   ],
   "source": [
    "#Creating First Dataframe to Perform Merge Operation\n",
    "import pandas as pd \n",
    "details = pd.DataFrame({\n",
    "\t'ID': [101, 102, 103, 104, 105, 106, \n",
    "\t\t107, 108, 109, 110],\n",
    "\t'NAME': ['Jagroop', 'Praveen', 'Harjot', \n",
    "\t\t\t'Pooja', 'Rahul', 'Nikita',\n",
    "\t\t\t'Saurabh', 'Ayush', 'Dolly', \"Mohit\"],\n",
    "\t'BRANCH': ['CSE', 'CSE', 'CSE', 'CSE', 'CSE', \n",
    "\t\t\t'CSE', 'CSE', 'CSE', 'CSE', 'CSE']})\n",
    "print(details)"
   ]
  },
  {
   "cell_type": "code",
   "execution_count": 9,
   "id": "f22e121c-9a23-4b4c-9053-aa8e93e8d9fc",
   "metadata": {},
   "outputs": [
    {
     "name": "stdout",
     "output_type": "stream",
     "text": [
      "    ID PENDING\n",
      "0  101    5000\n",
      "1  102     250\n",
      "2  103     NIL\n",
      "3  104    9000\n",
      "4  105   15000\n",
      "5  106     NIL\n",
      "6  107    4500\n",
      "7  108    1800\n",
      "8  109     250\n",
      "9  110     NIL\n"
     ]
    }
   ],
   "source": [
    "#Creating Second Dataframe to Perform Merge operation\n",
    "import pandas as pd\n",
    "fees_status = pd.DataFrame(\n",
    "\t{'ID': [101, 102, 103, 104, 105, \n",
    "\t\t\t106, 107, 108, 109, 110],\n",
    "\t'PENDING': ['5000', '250', 'NIL', \n",
    "\t\t\t\t'9000', '15000', 'NIL',\n",
    "\t\t\t\t'4500', '1800', '250', 'NIL']})\n",
    "print(fees_status)"
   ]
  },
  {
   "cell_type": "code",
   "execution_count": 10,
   "id": "d84ae9e6-711c-4812-9419-2a6b76809c87",
   "metadata": {},
   "outputs": [
    {
     "name": "stdout",
     "output_type": "stream",
     "text": [
      "    ID     NAME BRANCH PENDING\n",
      "0  101  Jagroop    CSE    5000\n",
      "1  102  Praveen    CSE     250\n",
      "2  103   Harjot    CSE     NIL\n",
      "3  104    Pooja    CSE    9000\n",
      "4  105    Rahul    CSE   15000\n",
      "5  106   Nikita    CSE     NIL\n",
      "6  107  Saurabh    CSE    4500\n",
      "7  108    Ayush    CSE    1800\n",
      "8  109    Dolly    CSE     250\n",
      "9  110    Mohit    CSE     NIL\n"
     ]
    }
   ],
   "source": [
    "#Data Wrangling Using Merge Operation\n",
    "import pandas as pd\n",
    "\n",
    "details = pd.DataFrame({\n",
    "    'ID': [101, 102, 103, 104, 105, 106, 107, 108, 109, 110],\n",
    "    'NAME': ['Jagroop', 'Praveen', 'Harjot', 'Pooja', 'Rahul', 'Nikita',\n",
    "             'Saurabh', 'Ayush', 'Dolly', \"Mohit\"],\n",
    "    'BRANCH': ['CSE'] * 10\n",
    "})\n",
    "\n",
    "fees_status = pd.DataFrame({\n",
    "    'ID': [101, 102, 103, 104, 105, 106, 107, 108, 109, 110],\n",
    "    'PENDING': ['5000', '250', 'NIL', '9000', '15000', 'NIL',\n",
    "                '4500', '1800', '250', 'NIL']\n",
    "})\n",
    "\n",
    "print(pd.merge(details, fees_status, on='ID'))"
   ]
  },
  {
   "cell_type": "code",
   "execution_count": 1,
   "id": "fe15db76-9e32-42df-96c2-13bb4d08cf21",
   "metadata": {},
   "outputs": [
    {
     "name": "stdout",
     "output_type": "stream",
     "text": [
      "Requirement already satisfied: folium in c:\\users\\reply\\appdata\\local\\programs\\python\\python312\\lib\\site-packages (0.19.4)\n",
      "Requirement already satisfied: branca>=0.6.0 in c:\\users\\reply\\appdata\\local\\programs\\python\\python312\\lib\\site-packages (from folium) (0.8.1)\n",
      "Requirement already satisfied: jinja2>=2.9 in c:\\users\\reply\\appdata\\local\\programs\\python\\python312\\lib\\site-packages (from folium) (3.1.4)\n",
      "Requirement already satisfied: numpy in c:\\users\\reply\\appdata\\local\\programs\\python\\python312\\lib\\site-packages (from folium) (2.1.2)\n",
      "Requirement already satisfied: requests in c:\\users\\reply\\appdata\\local\\programs\\python\\python312\\lib\\site-packages (from folium) (2.32.3)\n",
      "Requirement already satisfied: xyzservices in c:\\users\\reply\\appdata\\local\\programs\\python\\python312\\lib\\site-packages (from folium) (2025.1.0)\n",
      "Requirement already satisfied: MarkupSafe>=2.0 in c:\\users\\reply\\appdata\\local\\programs\\python\\python312\\lib\\site-packages (from jinja2>=2.9->folium) (2.1.5)\n",
      "Requirement already satisfied: charset-normalizer<4,>=2 in c:\\users\\reply\\appdata\\local\\programs\\python\\python312\\lib\\site-packages (from requests->folium) (3.3.2)\n",
      "Requirement already satisfied: idna<4,>=2.5 in c:\\users\\reply\\appdata\\local\\programs\\python\\python312\\lib\\site-packages (from requests->folium) (3.8)\n",
      "Requirement already satisfied: urllib3<3,>=1.21.1 in c:\\users\\reply\\appdata\\local\\programs\\python\\python312\\lib\\site-packages (from requests->folium) (2.2.2)\n",
      "Requirement already satisfied: certifi>=2017.4.17 in c:\\users\\reply\\appdata\\local\\programs\\python\\python312\\lib\\site-packages (from requests->folium) (2024.7.4)\n",
      "Note: you may need to restart the kernel to use updated packages.\n"
     ]
    },
    {
     "name": "stderr",
     "output_type": "stream",
     "text": [
      "\n",
      "[notice] A new release of pip is available: 24.2 -> 25.0.1\n",
      "[notice] To update, run: python.exe -m pip install --upgrade pip\n"
     ]
    }
   ],
   "source": [
    "pip install folium"
   ]
  },
  {
   "cell_type": "code",
   "execution_count": 2,
   "id": "64417458-eef4-42d9-a968-0c18e902838a",
   "metadata": {},
   "outputs": [],
   "source": [
    "import folium as flm\n",
    "from folium import plugins\n",
    "import pandas as pd\n",
    "import json \n",
    "import requests"
   ]
  },
  {
   "cell_type": "code",
   "execution_count": 7,
   "id": "fb83d4d8-5d63-410f-8fdb-ce3cbad26236",
   "metadata": {},
   "outputs": [],
   "source": [
    "with open(r'Indian_States.json') as f:\n",
    "    geojson_states = json.load(f)"
   ]
  },
  {
   "cell_type": "code",
   "execution_count": null,
   "id": "e9e922e5-3a98-42be-9a50-dc51703e15a1",
   "metadata": {},
   "outputs": [],
   "source": []
  },
  {
   "cell_type": "code",
   "execution_count": 13,
   "id": "803d1c2f-b433-4126-b259-8e10e392f1b0",
   "metadata": {},
   "outputs": [],
   "source": [
    "for i in geojson_states['features']:\n",
    "    i['id']= i['properties']['NAME_1']"
   ]
  },
  {
   "cell_type": "code",
   "execution_count": 15,
   "id": "b9e7b3f0-08df-489b-bf76-48da221215ef",
   "metadata": {},
   "outputs": [
    {
     "ename": "JSONDecodeError",
     "evalue": "Expecting value: line 1 column 1 (char 0)",
     "output_type": "error",
     "traceback": [
      "\u001b[1;31m---------------------------------------------------------------------------\u001b[0m",
      "\u001b[1;31mJSONDecodeError\u001b[0m                           Traceback (most recent call last)",
      "File \u001b[1;32m~\\AppData\\Local\\Programs\\Python\\Python312\\Lib\\site-packages\\requests\\models.py:974\u001b[0m, in \u001b[0;36mResponse.json\u001b[1;34m(self, **kwargs)\u001b[0m\n\u001b[0;32m    973\u001b[0m \u001b[38;5;28;01mtry\u001b[39;00m:\n\u001b[1;32m--> 974\u001b[0m     \u001b[38;5;28;01mreturn\u001b[39;00m \u001b[43mcomplexjson\u001b[49m\u001b[38;5;241;43m.\u001b[39;49m\u001b[43mloads\u001b[49m\u001b[43m(\u001b[49m\u001b[38;5;28;43mself\u001b[39;49m\u001b[38;5;241;43m.\u001b[39;49m\u001b[43mtext\u001b[49m\u001b[43m,\u001b[49m\u001b[43m \u001b[49m\u001b[38;5;241;43m*\u001b[39;49m\u001b[38;5;241;43m*\u001b[39;49m\u001b[43mkwargs\u001b[49m\u001b[43m)\u001b[49m\n\u001b[0;32m    975\u001b[0m \u001b[38;5;28;01mexcept\u001b[39;00m JSONDecodeError \u001b[38;5;28;01mas\u001b[39;00m e:\n\u001b[0;32m    976\u001b[0m     \u001b[38;5;66;03m# Catch JSON-related errors and raise as requests.JSONDecodeError\u001b[39;00m\n\u001b[0;32m    977\u001b[0m     \u001b[38;5;66;03m# This aliases json.JSONDecodeError and simplejson.JSONDecodeError\u001b[39;00m\n",
      "File \u001b[1;32m~\\AppData\\Local\\Programs\\Python\\Python312\\Lib\\json\\__init__.py:346\u001b[0m, in \u001b[0;36mloads\u001b[1;34m(s, cls, object_hook, parse_float, parse_int, parse_constant, object_pairs_hook, **kw)\u001b[0m\n\u001b[0;32m    343\u001b[0m \u001b[38;5;28;01mif\u001b[39;00m (\u001b[38;5;28mcls\u001b[39m \u001b[38;5;129;01mis\u001b[39;00m \u001b[38;5;28;01mNone\u001b[39;00m \u001b[38;5;129;01mand\u001b[39;00m object_hook \u001b[38;5;129;01mis\u001b[39;00m \u001b[38;5;28;01mNone\u001b[39;00m \u001b[38;5;129;01mand\u001b[39;00m\n\u001b[0;32m    344\u001b[0m         parse_int \u001b[38;5;129;01mis\u001b[39;00m \u001b[38;5;28;01mNone\u001b[39;00m \u001b[38;5;129;01mand\u001b[39;00m parse_float \u001b[38;5;129;01mis\u001b[39;00m \u001b[38;5;28;01mNone\u001b[39;00m \u001b[38;5;129;01mand\u001b[39;00m\n\u001b[0;32m    345\u001b[0m         parse_constant \u001b[38;5;129;01mis\u001b[39;00m \u001b[38;5;28;01mNone\u001b[39;00m \u001b[38;5;129;01mand\u001b[39;00m object_pairs_hook \u001b[38;5;129;01mis\u001b[39;00m \u001b[38;5;28;01mNone\u001b[39;00m \u001b[38;5;129;01mand\u001b[39;00m \u001b[38;5;129;01mnot\u001b[39;00m kw):\n\u001b[1;32m--> 346\u001b[0m     \u001b[38;5;28;01mreturn\u001b[39;00m \u001b[43m_default_decoder\u001b[49m\u001b[38;5;241;43m.\u001b[39;49m\u001b[43mdecode\u001b[49m\u001b[43m(\u001b[49m\u001b[43ms\u001b[49m\u001b[43m)\u001b[49m\n\u001b[0;32m    347\u001b[0m \u001b[38;5;28;01mif\u001b[39;00m \u001b[38;5;28mcls\u001b[39m \u001b[38;5;129;01mis\u001b[39;00m \u001b[38;5;28;01mNone\u001b[39;00m:\n",
      "File \u001b[1;32m~\\AppData\\Local\\Programs\\Python\\Python312\\Lib\\json\\decoder.py:337\u001b[0m, in \u001b[0;36mJSONDecoder.decode\u001b[1;34m(self, s, _w)\u001b[0m\n\u001b[0;32m    333\u001b[0m \u001b[38;5;250m\u001b[39m\u001b[38;5;124;03m\"\"\"Return the Python representation of ``s`` (a ``str`` instance\u001b[39;00m\n\u001b[0;32m    334\u001b[0m \u001b[38;5;124;03mcontaining a JSON document).\u001b[39;00m\n\u001b[0;32m    335\u001b[0m \n\u001b[0;32m    336\u001b[0m \u001b[38;5;124;03m\"\"\"\u001b[39;00m\n\u001b[1;32m--> 337\u001b[0m obj, end \u001b[38;5;241m=\u001b[39m \u001b[38;5;28;43mself\u001b[39;49m\u001b[38;5;241;43m.\u001b[39;49m\u001b[43mraw_decode\u001b[49m\u001b[43m(\u001b[49m\u001b[43ms\u001b[49m\u001b[43m,\u001b[49m\u001b[43m \u001b[49m\u001b[43midx\u001b[49m\u001b[38;5;241;43m=\u001b[39;49m\u001b[43m_w\u001b[49m\u001b[43m(\u001b[49m\u001b[43ms\u001b[49m\u001b[43m,\u001b[49m\u001b[43m \u001b[49m\u001b[38;5;241;43m0\u001b[39;49m\u001b[43m)\u001b[49m\u001b[38;5;241;43m.\u001b[39;49m\u001b[43mend\u001b[49m\u001b[43m(\u001b[49m\u001b[43m)\u001b[49m\u001b[43m)\u001b[49m\n\u001b[0;32m    338\u001b[0m end \u001b[38;5;241m=\u001b[39m _w(s, end)\u001b[38;5;241m.\u001b[39mend()\n",
      "File \u001b[1;32m~\\AppData\\Local\\Programs\\Python\\Python312\\Lib\\json\\decoder.py:355\u001b[0m, in \u001b[0;36mJSONDecoder.raw_decode\u001b[1;34m(self, s, idx)\u001b[0m\n\u001b[0;32m    354\u001b[0m \u001b[38;5;28;01mexcept\u001b[39;00m \u001b[38;5;167;01mStopIteration\u001b[39;00m \u001b[38;5;28;01mas\u001b[39;00m err:\n\u001b[1;32m--> 355\u001b[0m     \u001b[38;5;28;01mraise\u001b[39;00m JSONDecodeError(\u001b[38;5;124m\"\u001b[39m\u001b[38;5;124mExpecting value\u001b[39m\u001b[38;5;124m\"\u001b[39m, s, err\u001b[38;5;241m.\u001b[39mvalue) \u001b[38;5;28;01mfrom\u001b[39;00m \u001b[38;5;28;01mNone\u001b[39;00m\n\u001b[0;32m    356\u001b[0m \u001b[38;5;28;01mreturn\u001b[39;00m obj, end\n",
      "\u001b[1;31mJSONDecodeError\u001b[0m: Expecting value: line 1 column 1 (char 0)",
      "\nDuring handling of the above exception, another exception occurred:\n",
      "\u001b[1;31mJSONDecodeError\u001b[0m                           Traceback (most recent call last)",
      "Cell \u001b[1;32mIn[15], line 2\u001b[0m\n\u001b[0;32m      1\u001b[0m res \u001b[38;5;241m=\u001b[39m requests\u001b[38;5;241m.\u001b[39mget(\u001b[38;5;124m'\u001b[39m\u001b[38;5;124mhttps://api.covid19india.org/data.json\u001b[39m\u001b[38;5;124m'\u001b[39m)\n\u001b[1;32m----> 2\u001b[0m covid_current \u001b[38;5;241m=\u001b[39m \u001b[43mres\u001b[49m\u001b[38;5;241;43m.\u001b[39;49m\u001b[43mjson\u001b[49m\u001b[43m(\u001b[49m\u001b[43m)\u001b[49m\n\u001b[0;32m      3\u001b[0m df \u001b[38;5;241m=\u001b[39m []\n",
      "File \u001b[1;32m~\\AppData\\Local\\Programs\\Python\\Python312\\Lib\\site-packages\\requests\\models.py:978\u001b[0m, in \u001b[0;36mResponse.json\u001b[1;34m(self, **kwargs)\u001b[0m\n\u001b[0;32m    974\u001b[0m     \u001b[38;5;28;01mreturn\u001b[39;00m complexjson\u001b[38;5;241m.\u001b[39mloads(\u001b[38;5;28mself\u001b[39m\u001b[38;5;241m.\u001b[39mtext, \u001b[38;5;241m*\u001b[39m\u001b[38;5;241m*\u001b[39mkwargs)\n\u001b[0;32m    975\u001b[0m \u001b[38;5;28;01mexcept\u001b[39;00m JSONDecodeError \u001b[38;5;28;01mas\u001b[39;00m e:\n\u001b[0;32m    976\u001b[0m     \u001b[38;5;66;03m# Catch JSON-related errors and raise as requests.JSONDecodeError\u001b[39;00m\n\u001b[0;32m    977\u001b[0m     \u001b[38;5;66;03m# This aliases json.JSONDecodeError and simplejson.JSONDecodeError\u001b[39;00m\n\u001b[1;32m--> 978\u001b[0m     \u001b[38;5;28;01mraise\u001b[39;00m RequestsJSONDecodeError(e\u001b[38;5;241m.\u001b[39mmsg, e\u001b[38;5;241m.\u001b[39mdoc, e\u001b[38;5;241m.\u001b[39mpos)\n",
      "\u001b[1;31mJSONDecodeError\u001b[0m: Expecting value: line 1 column 1 (char 0)"
     ]
    }
   ],
   "source": [
    "res = requests.get('https://api.covid19india.org/data.json')\n",
    "covid_current = res.json()\n",
    "df = []"
   ]
  },
  {
   "cell_type": "code",
   "execution_count": null,
   "id": "c64cb8b6-575e-41eb-a456-03425a5a2c83",
   "metadata": {},
   "outputs": [],
   "source": [
    "+"
   ]
  },
  {
   "cell_type": "code",
   "execution_count": null,
   "id": "66d7141d-c2ab-415b-8663-560969355d38",
   "metadata": {},
   "outputs": [],
   "source": []
  },
  {
   "cell_type": "code",
   "execution_count": null,
   "id": "10cae8f1-0de8-483b-a87e-d117a7f60731",
   "metadata": {},
   "outputs": [],
   "source": []
  },
  {
   "cell_type": "code",
   "execution_count": null,
   "id": "afacad0d-cbfe-452d-8142-3ffcc8753f6a",
   "metadata": {},
   "outputs": [],
   "source": []
  }
 ],
 "metadata": {
  "kernelspec": {
   "display_name": "Python 3 (ipykernel)",
   "language": "python",
   "name": "python3"
  },
  "language_info": {
   "codemirror_mode": {
    "name": "ipython",
    "version": 3
   },
   "file_extension": ".py",
   "mimetype": "text/x-python",
   "name": "python",
   "nbconvert_exporter": "python",
   "pygments_lexer": "ipython3",
   "version": "3.12.5"
  }
 },
 "nbformat": 4,
 "nbformat_minor": 5
}

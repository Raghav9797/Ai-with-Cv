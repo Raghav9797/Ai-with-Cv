{
 "cells": [
  {
   "cell_type": "code",
   "execution_count": 1,
   "id": "d1c2c97e-46dd-4e56-9a07-a7f77fba483a",
   "metadata": {},
   "outputs": [],
   "source": [
    "import pandas as pd\n",
    "import numpy as np"
   ]
  },
  {
   "cell_type": "code",
   "execution_count": 2,
   "id": "fa412621-aace-4ffb-bc8b-88dc77322a25",
   "metadata": {},
   "outputs": [],
   "source": [
    "import csv"
   ]
  },
  {
   "cell_type": "code",
   "execution_count": 4,
   "id": "596f75bb-8b18-4128-a949-6ec64cd84d2c",
   "metadata": {
    "scrolled": true
   },
   "outputs": [
    {
     "name": "stdout",
     "output_type": "stream",
     "text": [
      "      Time Weather Temperature Company Humidity    Wind Goes\n",
      "0  Morning   Sunny        Warm     Yes     Mild  Strong  Yes\n",
      "1  Evening   Rainy        Cold      No     Mild  Normal   No\n",
      "2  Morning   Sunny    Moderate     Yes   Normal  Normal  Yes\n",
      "3  Evening   Sunny        Cold     Yes     High  Strong  Yes n\n"
     ]
    }
   ],
   "source": [
    "data = pd.read_csv(\"Weather.csv\")\n",
    "print(data,\"n\")"
   ]
  },
  {
   "cell_type": "code",
   "execution_count": 5,
   "id": "90bacec1-7c34-4c43-9a0a-12af64fad99b",
   "metadata": {},
   "outputs": [
    {
     "name": "stdout",
     "output_type": "stream",
     "text": [
      "n The attributes are:  [['Morning' 'Sunny' 'Warm' 'Yes' 'Mild' 'Strong']\n",
      " ['Evening' 'Rainy' 'Cold' 'No' 'Mild' 'Normal']\n",
      " ['Morning' 'Sunny' 'Moderate' 'Yes' 'Normal' 'Normal']\n",
      " ['Evening' 'Sunny' 'Cold' 'Yes' 'High' 'Strong']]\n"
     ]
    }
   ],
   "source": [
    "#making an array of all the attributes\n",
    "d = np.array(data)[:,:-1]\n",
    "print(\"n The attributes are: \",d)"
   ]
  },
  {
   "cell_type": "code",
   "execution_count": 6,
   "id": "b5834de5-3e1a-4cac-9ce0-d6903a78ae14",
   "metadata": {},
   "outputs": [
    {
     "name": "stdout",
     "output_type": "stream",
     "text": [
      "n The target is:  ['Yes' 'No' 'Yes' 'Yes']\n"
     ]
    }
   ],
   "source": [
    "#segragrating the target that has positive and negaTIVE EXAMPLES\n",
    "target = np.array(data)[:,-1]\n",
    "print(\"n The target is: \",target)"
   ]
  },
  {
   "cell_type": "code",
   "execution_count": 7,
   "id": "d7cf2317-e8c1-4958-a71f-7d9070b2acad",
   "metadata": {},
   "outputs": [],
   "source": [
    "#training function to implement find-s algorithm\n",
    "def train(c,t):\n",
    "    for i, val in enumerate(t):\n",
    "        if val == \"Yes\":\n",
    "            specific_hypothesis = c[i].copy()\n",
    "            break\n",
    "    for i, val in enumerate(c):\n",
    "        if t[i] == \"Yes\":\n",
    "            for x in range(len(specific_hypothesis)):\n",
    "                if val[x] != specific_hypothesis[x]:\n",
    "                    specific_hypothesis[x] = '?'\n",
    "                else:\n",
    "                    pass\n",
    "    return specific_hypothesis\n",
    "\n",
    "        "
   ]
  },
  {
   "cell_type": "code",
   "execution_count": 8,
   "id": "9a73fb72-67dc-47ef-8731-1a367700e27f",
   "metadata": {},
   "outputs": [
    {
     "name": "stdout",
     "output_type": "stream",
     "text": [
      "n The final hypothesis is: ['?' 'Sunny' '?' 'Yes' '?' '?']\n"
     ]
    }
   ],
   "source": [
    "#obtaining the final hypothesis\n",
    "print(\"n The final hypothesis is:\",train(d,target))"
   ]
  },
  {
   "cell_type": "code",
   "execution_count": 3,
   "id": "ac30a4b3-5537-4d4f-9156-fad9c160015b",
   "metadata": {},
   "outputs": [
    {
     "ename": "FileNotFoundError",
     "evalue": "[Errno 2] No such file or directory: 'Weather2.cvc'",
     "output_type": "error",
     "traceback": [
      "\u001b[1;31m---------------------------------------------------------------------------\u001b[0m",
      "\u001b[1;31mFileNotFoundError\u001b[0m                         Traceback (most recent call last)",
      "Cell \u001b[1;32mIn[3], line 19\u001b[0m\n\u001b[0;32m     17\u001b[0m     \u001b[38;5;28;01mreturn\u001b[39;00m new_G\n\u001b[0;32m     18\u001b[0m \u001b[38;5;28;01mdef\u001b[39;00m \u001b[38;5;21msync\u001b[39m(G, S): \u001b[38;5;28;01mreturn\u001b[39;00m [g \u001b[38;5;28;01mfor\u001b[39;00m g \u001b[38;5;129;01min\u001b[39;00m G \u001b[38;5;28;01mif\u001b[39;00m \u001b[38;5;28mall\u001b[39m(g[i]\u001b[38;5;241m==\u001b[39m\u001b[38;5;124m'\u001b[39m\u001b[38;5;124m?\u001b[39m\u001b[38;5;124m'\u001b[39m \u001b[38;5;129;01mor\u001b[39;00m g[i]\u001b[38;5;241m==\u001b[39mS[i] \u001b[38;5;28;01mfor\u001b[39;00m i \u001b[38;5;129;01min\u001b[39;00m \u001b[38;5;28mrange\u001b[39m(\u001b[38;5;28mlen\u001b[39m(S)))]\n\u001b[1;32m---> 19\u001b[0m data \u001b[38;5;241m=\u001b[39m \u001b[43mpd\u001b[49m\u001b[38;5;241;43m.\u001b[39;49m\u001b[43mread_csv\u001b[49m\u001b[43m(\u001b[49m\u001b[38;5;124;43m'\u001b[39;49m\u001b[38;5;124;43mWeather2.cvc\u001b[39;49m\u001b[38;5;124;43m'\u001b[39;49m\u001b[43m)\u001b[49m\n\u001b[0;32m     20\u001b[0m instances \u001b[38;5;241m=\u001b[39m data\u001b[38;5;241m.\u001b[39mvalues\u001b[38;5;241m.\u001b[39mtolist()\n\u001b[0;32m     21\u001b[0m G \u001b[38;5;241m=\u001b[39m [[\u001b[38;5;124m'\u001b[39m\u001b[38;5;124m?\u001b[39m\u001b[38;5;124m'\u001b[39m]\u001b[38;5;241m*\u001b[39m\u001b[38;5;28mlen\u001b[39m(instances[\u001b[38;5;241m0\u001b[39m][:\u001b[38;5;241m-\u001b[39m\u001b[38;5;241m1\u001b[39m]) \u001b[38;5;28;01mfor\u001b[39;00m _ \u001b[38;5;129;01min\u001b[39;00m \u001b[38;5;28mrange\u001b[39m(\u001b[38;5;28mlen\u001b[39m(instances[\u001b[38;5;241m0\u001b[39m][:\u001b[38;5;241m-\u001b[39m\u001b[38;5;241m1\u001b[39m]))]\n",
      "File \u001b[1;32m~\\AppData\\Local\\Programs\\Python\\Python312\\Lib\\site-packages\\pandas\\io\\parsers\\readers.py:1026\u001b[0m, in \u001b[0;36mread_csv\u001b[1;34m(filepath_or_buffer, sep, delimiter, header, names, index_col, usecols, dtype, engine, converters, true_values, false_values, skipinitialspace, skiprows, skipfooter, nrows, na_values, keep_default_na, na_filter, verbose, skip_blank_lines, parse_dates, infer_datetime_format, keep_date_col, date_parser, date_format, dayfirst, cache_dates, iterator, chunksize, compression, thousands, decimal, lineterminator, quotechar, quoting, doublequote, escapechar, comment, encoding, encoding_errors, dialect, on_bad_lines, delim_whitespace, low_memory, memory_map, float_precision, storage_options, dtype_backend)\u001b[0m\n\u001b[0;32m   1013\u001b[0m kwds_defaults \u001b[38;5;241m=\u001b[39m _refine_defaults_read(\n\u001b[0;32m   1014\u001b[0m     dialect,\n\u001b[0;32m   1015\u001b[0m     delimiter,\n\u001b[1;32m   (...)\u001b[0m\n\u001b[0;32m   1022\u001b[0m     dtype_backend\u001b[38;5;241m=\u001b[39mdtype_backend,\n\u001b[0;32m   1023\u001b[0m )\n\u001b[0;32m   1024\u001b[0m kwds\u001b[38;5;241m.\u001b[39mupdate(kwds_defaults)\n\u001b[1;32m-> 1026\u001b[0m \u001b[38;5;28;01mreturn\u001b[39;00m \u001b[43m_read\u001b[49m\u001b[43m(\u001b[49m\u001b[43mfilepath_or_buffer\u001b[49m\u001b[43m,\u001b[49m\u001b[43m \u001b[49m\u001b[43mkwds\u001b[49m\u001b[43m)\u001b[49m\n",
      "File \u001b[1;32m~\\AppData\\Local\\Programs\\Python\\Python312\\Lib\\site-packages\\pandas\\io\\parsers\\readers.py:620\u001b[0m, in \u001b[0;36m_read\u001b[1;34m(filepath_or_buffer, kwds)\u001b[0m\n\u001b[0;32m    617\u001b[0m _validate_names(kwds\u001b[38;5;241m.\u001b[39mget(\u001b[38;5;124m\"\u001b[39m\u001b[38;5;124mnames\u001b[39m\u001b[38;5;124m\"\u001b[39m, \u001b[38;5;28;01mNone\u001b[39;00m))\n\u001b[0;32m    619\u001b[0m \u001b[38;5;66;03m# Create the parser.\u001b[39;00m\n\u001b[1;32m--> 620\u001b[0m parser \u001b[38;5;241m=\u001b[39m \u001b[43mTextFileReader\u001b[49m\u001b[43m(\u001b[49m\u001b[43mfilepath_or_buffer\u001b[49m\u001b[43m,\u001b[49m\u001b[43m \u001b[49m\u001b[38;5;241;43m*\u001b[39;49m\u001b[38;5;241;43m*\u001b[39;49m\u001b[43mkwds\u001b[49m\u001b[43m)\u001b[49m\n\u001b[0;32m    622\u001b[0m \u001b[38;5;28;01mif\u001b[39;00m chunksize \u001b[38;5;129;01mor\u001b[39;00m iterator:\n\u001b[0;32m    623\u001b[0m     \u001b[38;5;28;01mreturn\u001b[39;00m parser\n",
      "File \u001b[1;32m~\\AppData\\Local\\Programs\\Python\\Python312\\Lib\\site-packages\\pandas\\io\\parsers\\readers.py:1620\u001b[0m, in \u001b[0;36mTextFileReader.__init__\u001b[1;34m(self, f, engine, **kwds)\u001b[0m\n\u001b[0;32m   1617\u001b[0m     \u001b[38;5;28mself\u001b[39m\u001b[38;5;241m.\u001b[39moptions[\u001b[38;5;124m\"\u001b[39m\u001b[38;5;124mhas_index_names\u001b[39m\u001b[38;5;124m\"\u001b[39m] \u001b[38;5;241m=\u001b[39m kwds[\u001b[38;5;124m\"\u001b[39m\u001b[38;5;124mhas_index_names\u001b[39m\u001b[38;5;124m\"\u001b[39m]\n\u001b[0;32m   1619\u001b[0m \u001b[38;5;28mself\u001b[39m\u001b[38;5;241m.\u001b[39mhandles: IOHandles \u001b[38;5;241m|\u001b[39m \u001b[38;5;28;01mNone\u001b[39;00m \u001b[38;5;241m=\u001b[39m \u001b[38;5;28;01mNone\u001b[39;00m\n\u001b[1;32m-> 1620\u001b[0m \u001b[38;5;28mself\u001b[39m\u001b[38;5;241m.\u001b[39m_engine \u001b[38;5;241m=\u001b[39m \u001b[38;5;28;43mself\u001b[39;49m\u001b[38;5;241;43m.\u001b[39;49m\u001b[43m_make_engine\u001b[49m\u001b[43m(\u001b[49m\u001b[43mf\u001b[49m\u001b[43m,\u001b[49m\u001b[43m \u001b[49m\u001b[38;5;28;43mself\u001b[39;49m\u001b[38;5;241;43m.\u001b[39;49m\u001b[43mengine\u001b[49m\u001b[43m)\u001b[49m\n",
      "File \u001b[1;32m~\\AppData\\Local\\Programs\\Python\\Python312\\Lib\\site-packages\\pandas\\io\\parsers\\readers.py:1880\u001b[0m, in \u001b[0;36mTextFileReader._make_engine\u001b[1;34m(self, f, engine)\u001b[0m\n\u001b[0;32m   1878\u001b[0m     \u001b[38;5;28;01mif\u001b[39;00m \u001b[38;5;124m\"\u001b[39m\u001b[38;5;124mb\u001b[39m\u001b[38;5;124m\"\u001b[39m \u001b[38;5;129;01mnot\u001b[39;00m \u001b[38;5;129;01min\u001b[39;00m mode:\n\u001b[0;32m   1879\u001b[0m         mode \u001b[38;5;241m+\u001b[39m\u001b[38;5;241m=\u001b[39m \u001b[38;5;124m\"\u001b[39m\u001b[38;5;124mb\u001b[39m\u001b[38;5;124m\"\u001b[39m\n\u001b[1;32m-> 1880\u001b[0m \u001b[38;5;28mself\u001b[39m\u001b[38;5;241m.\u001b[39mhandles \u001b[38;5;241m=\u001b[39m \u001b[43mget_handle\u001b[49m\u001b[43m(\u001b[49m\n\u001b[0;32m   1881\u001b[0m \u001b[43m    \u001b[49m\u001b[43mf\u001b[49m\u001b[43m,\u001b[49m\n\u001b[0;32m   1882\u001b[0m \u001b[43m    \u001b[49m\u001b[43mmode\u001b[49m\u001b[43m,\u001b[49m\n\u001b[0;32m   1883\u001b[0m \u001b[43m    \u001b[49m\u001b[43mencoding\u001b[49m\u001b[38;5;241;43m=\u001b[39;49m\u001b[38;5;28;43mself\u001b[39;49m\u001b[38;5;241;43m.\u001b[39;49m\u001b[43moptions\u001b[49m\u001b[38;5;241;43m.\u001b[39;49m\u001b[43mget\u001b[49m\u001b[43m(\u001b[49m\u001b[38;5;124;43m\"\u001b[39;49m\u001b[38;5;124;43mencoding\u001b[39;49m\u001b[38;5;124;43m\"\u001b[39;49m\u001b[43m,\u001b[49m\u001b[43m \u001b[49m\u001b[38;5;28;43;01mNone\u001b[39;49;00m\u001b[43m)\u001b[49m\u001b[43m,\u001b[49m\n\u001b[0;32m   1884\u001b[0m \u001b[43m    \u001b[49m\u001b[43mcompression\u001b[49m\u001b[38;5;241;43m=\u001b[39;49m\u001b[38;5;28;43mself\u001b[39;49m\u001b[38;5;241;43m.\u001b[39;49m\u001b[43moptions\u001b[49m\u001b[38;5;241;43m.\u001b[39;49m\u001b[43mget\u001b[49m\u001b[43m(\u001b[49m\u001b[38;5;124;43m\"\u001b[39;49m\u001b[38;5;124;43mcompression\u001b[39;49m\u001b[38;5;124;43m\"\u001b[39;49m\u001b[43m,\u001b[49m\u001b[43m \u001b[49m\u001b[38;5;28;43;01mNone\u001b[39;49;00m\u001b[43m)\u001b[49m\u001b[43m,\u001b[49m\n\u001b[0;32m   1885\u001b[0m \u001b[43m    \u001b[49m\u001b[43mmemory_map\u001b[49m\u001b[38;5;241;43m=\u001b[39;49m\u001b[38;5;28;43mself\u001b[39;49m\u001b[38;5;241;43m.\u001b[39;49m\u001b[43moptions\u001b[49m\u001b[38;5;241;43m.\u001b[39;49m\u001b[43mget\u001b[49m\u001b[43m(\u001b[49m\u001b[38;5;124;43m\"\u001b[39;49m\u001b[38;5;124;43mmemory_map\u001b[39;49m\u001b[38;5;124;43m\"\u001b[39;49m\u001b[43m,\u001b[49m\u001b[43m \u001b[49m\u001b[38;5;28;43;01mFalse\u001b[39;49;00m\u001b[43m)\u001b[49m\u001b[43m,\u001b[49m\n\u001b[0;32m   1886\u001b[0m \u001b[43m    \u001b[49m\u001b[43mis_text\u001b[49m\u001b[38;5;241;43m=\u001b[39;49m\u001b[43mis_text\u001b[49m\u001b[43m,\u001b[49m\n\u001b[0;32m   1887\u001b[0m \u001b[43m    \u001b[49m\u001b[43merrors\u001b[49m\u001b[38;5;241;43m=\u001b[39;49m\u001b[38;5;28;43mself\u001b[39;49m\u001b[38;5;241;43m.\u001b[39;49m\u001b[43moptions\u001b[49m\u001b[38;5;241;43m.\u001b[39;49m\u001b[43mget\u001b[49m\u001b[43m(\u001b[49m\u001b[38;5;124;43m\"\u001b[39;49m\u001b[38;5;124;43mencoding_errors\u001b[39;49m\u001b[38;5;124;43m\"\u001b[39;49m\u001b[43m,\u001b[49m\u001b[43m \u001b[49m\u001b[38;5;124;43m\"\u001b[39;49m\u001b[38;5;124;43mstrict\u001b[39;49m\u001b[38;5;124;43m\"\u001b[39;49m\u001b[43m)\u001b[49m\u001b[43m,\u001b[49m\n\u001b[0;32m   1888\u001b[0m \u001b[43m    \u001b[49m\u001b[43mstorage_options\u001b[49m\u001b[38;5;241;43m=\u001b[39;49m\u001b[38;5;28;43mself\u001b[39;49m\u001b[38;5;241;43m.\u001b[39;49m\u001b[43moptions\u001b[49m\u001b[38;5;241;43m.\u001b[39;49m\u001b[43mget\u001b[49m\u001b[43m(\u001b[49m\u001b[38;5;124;43m\"\u001b[39;49m\u001b[38;5;124;43mstorage_options\u001b[39;49m\u001b[38;5;124;43m\"\u001b[39;49m\u001b[43m,\u001b[49m\u001b[43m \u001b[49m\u001b[38;5;28;43;01mNone\u001b[39;49;00m\u001b[43m)\u001b[49m\u001b[43m,\u001b[49m\n\u001b[0;32m   1889\u001b[0m \u001b[43m\u001b[49m\u001b[43m)\u001b[49m\n\u001b[0;32m   1890\u001b[0m \u001b[38;5;28;01massert\u001b[39;00m \u001b[38;5;28mself\u001b[39m\u001b[38;5;241m.\u001b[39mhandles \u001b[38;5;129;01mis\u001b[39;00m \u001b[38;5;129;01mnot\u001b[39;00m \u001b[38;5;28;01mNone\u001b[39;00m\n\u001b[0;32m   1891\u001b[0m f \u001b[38;5;241m=\u001b[39m \u001b[38;5;28mself\u001b[39m\u001b[38;5;241m.\u001b[39mhandles\u001b[38;5;241m.\u001b[39mhandle\n",
      "File \u001b[1;32m~\\AppData\\Local\\Programs\\Python\\Python312\\Lib\\site-packages\\pandas\\io\\common.py:873\u001b[0m, in \u001b[0;36mget_handle\u001b[1;34m(path_or_buf, mode, encoding, compression, memory_map, is_text, errors, storage_options)\u001b[0m\n\u001b[0;32m    868\u001b[0m \u001b[38;5;28;01melif\u001b[39;00m \u001b[38;5;28misinstance\u001b[39m(handle, \u001b[38;5;28mstr\u001b[39m):\n\u001b[0;32m    869\u001b[0m     \u001b[38;5;66;03m# Check whether the filename is to be opened in binary mode.\u001b[39;00m\n\u001b[0;32m    870\u001b[0m     \u001b[38;5;66;03m# Binary mode does not support 'encoding' and 'newline'.\u001b[39;00m\n\u001b[0;32m    871\u001b[0m     \u001b[38;5;28;01mif\u001b[39;00m ioargs\u001b[38;5;241m.\u001b[39mencoding \u001b[38;5;129;01mand\u001b[39;00m \u001b[38;5;124m\"\u001b[39m\u001b[38;5;124mb\u001b[39m\u001b[38;5;124m\"\u001b[39m \u001b[38;5;129;01mnot\u001b[39;00m \u001b[38;5;129;01min\u001b[39;00m ioargs\u001b[38;5;241m.\u001b[39mmode:\n\u001b[0;32m    872\u001b[0m         \u001b[38;5;66;03m# Encoding\u001b[39;00m\n\u001b[1;32m--> 873\u001b[0m         handle \u001b[38;5;241m=\u001b[39m \u001b[38;5;28;43mopen\u001b[39;49m\u001b[43m(\u001b[49m\n\u001b[0;32m    874\u001b[0m \u001b[43m            \u001b[49m\u001b[43mhandle\u001b[49m\u001b[43m,\u001b[49m\n\u001b[0;32m    875\u001b[0m \u001b[43m            \u001b[49m\u001b[43mioargs\u001b[49m\u001b[38;5;241;43m.\u001b[39;49m\u001b[43mmode\u001b[49m\u001b[43m,\u001b[49m\n\u001b[0;32m    876\u001b[0m \u001b[43m            \u001b[49m\u001b[43mencoding\u001b[49m\u001b[38;5;241;43m=\u001b[39;49m\u001b[43mioargs\u001b[49m\u001b[38;5;241;43m.\u001b[39;49m\u001b[43mencoding\u001b[49m\u001b[43m,\u001b[49m\n\u001b[0;32m    877\u001b[0m \u001b[43m            \u001b[49m\u001b[43merrors\u001b[49m\u001b[38;5;241;43m=\u001b[39;49m\u001b[43merrors\u001b[49m\u001b[43m,\u001b[49m\n\u001b[0;32m    878\u001b[0m \u001b[43m            \u001b[49m\u001b[43mnewline\u001b[49m\u001b[38;5;241;43m=\u001b[39;49m\u001b[38;5;124;43m\"\u001b[39;49m\u001b[38;5;124;43m\"\u001b[39;49m\u001b[43m,\u001b[49m\n\u001b[0;32m    879\u001b[0m \u001b[43m        \u001b[49m\u001b[43m)\u001b[49m\n\u001b[0;32m    880\u001b[0m     \u001b[38;5;28;01melse\u001b[39;00m:\n\u001b[0;32m    881\u001b[0m         \u001b[38;5;66;03m# Binary mode\u001b[39;00m\n\u001b[0;32m    882\u001b[0m         handle \u001b[38;5;241m=\u001b[39m \u001b[38;5;28mopen\u001b[39m(handle, ioargs\u001b[38;5;241m.\u001b[39mmode)\n",
      "\u001b[1;31mFileNotFoundError\u001b[0m: [Errno 2] No such file or directory: 'Weather2.cvc'"
     ]
    }
   ],
   "source": [
    "#training function to implement find cnadidate  algorithm\n",
    "import copy, pandas as pd\n",
    "def const(h, e): return all(x=='?' or x==y for x,y in zip(h,e))\n",
    "def update_pos(G, S, e):\n",
    "    for j in range(len(S)):\n",
    "        S[j] = '?' if S[j]!='Null' and S[j]!=e[j] else e[j]\n",
    "def update_neg(G, S, e):\n",
    "    new_G = []\n",
    "    for g in G:\n",
    "        if const(g,e):\n",
    "            for i in range(len(e)):\n",
    "                if S[i]!='?' and S[i]!='Null' and e[i]!=S[i]:\n",
    "                    h = g.copy()\n",
    "                    h[i] = S[i]\n",
    "                    if h not in new_G: new_G.append(h)\n",
    "        else: new_G.append(g)\n",
    "    return new_G\n",
    "def sync(G, S): return [g for g in G if all(g[i]=='?' or g[i]==S[i] for i in range(len(S)))]\n",
    "data = pd.read_csv('Weather2.csv')\n",
    "instances = data.values.tolist()\n",
    "G = [['?']*len(instances[0][:-1]) for _ in range(len(instances[0][:-1]))]\n",
    "S = ['Null']*len(instances[0][:-1])\n",
    "for instance in instances:\n",
    "    e, l = instance[:-1], instance[-1]\n",
    "    print(\"Processing instance:\", e, \"Label:\", l)\n",
    "    if l=='Yes': update_pos(G,S,e)\n",
    "    else: G = update_neg(G,S,e)\n",
    "    print(\" (S):\", S)\n",
    "    print(\" (G):\", G)\n",
    "G = sync(G,S)\n",
    "print(\"Final  (S):\", S)\n",
    "print(\"Final  (G):\", G)"
   ]
  },
  {
   "cell_type": "code",
   "execution_count": 4,
   "id": "4e8b8286-8d45-4224-b504-e5f6f3e9f077",
   "metadata": {},
   "outputs": [
    {
     "name": "stdout",
     "output_type": "stream",
     "text": [
      "Processing instance: ['sunny', 'warm', 'normal', 'strong', 'warm', 'same'] Label: yes\n",
      " (S): ['∅', '∅', '∅', '∅', '∅', '∅']\n",
      " (G): []\n",
      "Processing instance: ['sunny', 'warm', 'high', 'strong', 'warm', 'same'] Label: yes\n",
      " (S): ['∅', '∅', '∅', '∅', '∅', '∅']\n",
      " (G): []\n",
      "Processing instance: ['rainy', 'cold', 'high', 'strong', 'warm', 'change'] Label: no\n",
      " (S): ['∅', '∅', '∅', '∅', '∅', '∅']\n",
      " (G): []\n",
      "Processing instance: ['sunny', 'warm', 'high', 'strong', 'cool', 'change'] Label: yes\n",
      " (S): ['∅', '∅', '∅', '∅', '∅', '∅']\n",
      " (G): []\n",
      "Final (S): ['∅', '∅', '∅', '∅', '∅', '∅']\n",
      "Final (G): []\n"
     ]
    }
   ],
   "source": [
    "import pandas as pd\n",
    "\n",
    "def const(h, e):\n",
    "    return all(x == '?' or x == y for x, y in zip(h, e))\n",
    "\n",
    "def update_pos(G, S, e):\n",
    "    for j in range(len(S)):\n",
    "        if S[j] == '∅':  \n",
    "            S[j] = e[j]\n",
    "        elif S[j] != e[j]:\n",
    "            S[j] = '?'\n",
    "\n",
    "def update_neg(G, S, e):\n",
    "    new_G = []\n",
    "    for g in G:\n",
    "        if any(g[i] != '?' and g[i] == e[i] for i in range(len(e))):\n",
    "            new_G.append(g)\n",
    "    return new_G\n",
    "\n",
    "def sync(G, S):\n",
    "    return [g for g in G if all(g[i] == '?' or g[i] == S[i] for i in range(len(S)))]\n",
    "\n",
    "# Load Data (ensure it's a CSV)\n",
    "data = pd.read_csv('Weather2.csv')\n",
    "instances = data.values.tolist()\n",
    "\n",
    "# Initialize G and S\n",
    "G = [['?'] * len(instances[0][:-1])]\n",
    "S = ['∅'] * len(instances[0][:-1])\n",
    "\n",
    "# Training Process\n",
    "for instance in instances:\n",
    "    e, l = instance[:-1], instance[-1]\n",
    "    print(\"Processing instance:\", e, \"Label:\", l)\n",
    "    \n",
    "    if l == 'Yes':\n",
    "        update_pos(G, S, e)\n",
    "    else:\n",
    "        G = update_neg(G, S, e)\n",
    "    \n",
    "    print(\" (S):\", S)\n",
    "    print(\" (G):\", G)\n",
    "\n",
    "G = sync(G, S)\n",
    "print(\"Final (S):\", S)\n",
    "print(\"Final (G):\", G)\n"
   ]
  },
  {
   "cell_type": "code",
   "execution_count": null,
   "id": "8132a8aa-fc63-437b-9dfd-06aba97745cc",
   "metadata": {},
   "outputs": [],
   "source": []
  },
  {
   "cell_type": "code",
   "execution_count": 5,
   "id": "c189343d-0592-43aa-9365-ec9d73f540f5",
   "metadata": {},
   "outputs": [
    {
     "name": "stdout",
     "output_type": "stream",
     "text": [
      "Processing instance: ['sunny', 'warm', 'normal', 'strong', 'warm', 'same'] Label: yes\n",
      " (S): ['Null', 'Null', 'Null', 'Null', 'Null', 'Null']\n",
      " (G): []\n",
      "Processing instance: ['sunny', 'warm', 'high', 'strong', 'warm', 'same'] Label: yes\n",
      " (S): ['Null', 'Null', 'Null', 'Null', 'Null', 'Null']\n",
      " (G): []\n",
      "Processing instance: ['rainy', 'cold', 'high', 'strong', 'warm', 'change'] Label: no\n",
      " (S): ['Null', 'Null', 'Null', 'Null', 'Null', 'Null']\n",
      " (G): []\n",
      "Processing instance: ['sunny', 'warm', 'high', 'strong', 'cool', 'change'] Label: yes\n",
      " (S): ['Null', 'Null', 'Null', 'Null', 'Null', 'Null']\n",
      " (G): []\n",
      "Final  (S): ['Null', 'Null', 'Null', 'Null', 'Null', 'Null']\n",
      "Final  (G): []\n"
     ]
    }
   ],
   "source": [
    "import copy, pandas as pd\n",
    "\n",
    "def const(h, e): return all(x=='?' or x==y for x,y in zip(h,e))\n",
    "def update_pos(G, S, e):\n",
    "    for j in range(len(S)):\n",
    "        S[j] = '?' if S[j]!='Null' and S[j]!=e[j] else e[j]\n",
    "def update_neg(G, S, e):\n",
    "    new_G = []\n",
    "    for g in G:\n",
    "        if const(g,e):\n",
    "            for i in range(len(e)):\n",
    "                if S[i]!='?' and S[i]!='Null' and e[i]!=S[i]:\n",
    "                    h = g.copy()\n",
    "                    h[i] = S[i]\n",
    "                    if h not in new_G: new_G.append(h)\n",
    "        else: new_G.append(g)\n",
    "    return new_G\n",
    "def sync(G, S): return [g for g in G if all(g[i]=='?' or g[i]==S[i] for i in range(len(S)))]\n",
    "data = pd.read_csv('Weather2.csv')\n",
    "instances = data.values.tolist()\n",
    "G = [['?']*len(instances[0][:-1]) for _ in range(len(instances[0][:-1]))]\n",
    "S = ['Null']*len(instances[0][:-1])\n",
    "for instance in instances:\n",
    "    e, l = instance[:-1], instance[-1]\n",
    "    print(\"Processing instance:\", e, \"Label:\", l)\n",
    "    if l=='Yes': update_pos(G,S,e)\n",
    "    else: G = update_neg(G,S,e)\n",
    "    print(\" (S):\", S)\n",
    "    print(\" (G):\", G)\n",
    "G = sync(G,S)\n",
    "print(\"Final  (S):\", S)\n",
    "print(\"Final  (G):\", G)"
   ]
  },
  {
   "cell_type": "code",
   "execution_count": 6,
   "id": "fae3ac50-ad5f-47fd-bb68-9e80b34a4990",
   "metadata": {},
   "outputs": [
    {
     "name": "stdout",
     "output_type": "stream",
     "text": [
      "Processing instance: ['sunny', 'warm', 'normal', 'strong', 'warm', 'same'] Label: yes\n",
      " (S): ['Null', 'Null', 'Null', 'Null', 'Null', 'Null']\n",
      " (G): []\n",
      "Processing instance: ['sunny', 'warm', 'high', 'strong', 'warm', 'same'] Label: yes\n",
      " (S): ['Null', 'Null', 'Null', 'Null', 'Null', 'Null']\n",
      " (G): []\n",
      "Processing instance: ['rainy', 'cold', 'high', 'strong', 'warm', 'change'] Label: no\n",
      " (S): ['Null', 'Null', 'Null', 'Null', 'Null', 'Null']\n",
      " (G): []\n",
      "Processing instance: ['sunny', 'warm', 'high', 'strong', 'cool', 'change'] Label: yes\n",
      " (S): ['Null', 'Null', 'Null', 'Null', 'Null', 'Null']\n",
      " (G): []\n",
      "Final  (S): ['Null', 'Null', 'Null', 'Null', 'Null', 'Null']\n",
      "Final  (G): []\n"
     ]
    }
   ],
   "source": [
    "import copy, pandas as pd\n",
    "\n",
    "def const(h, e): return all(x=='?' or x==y for x,y in zip(h,e))\n",
    "def update_pos(G, S, e):\n",
    "    for j in range(len(S)):\n",
    "        S[j] = '?' if S[j]!='Null' and S[j]!=e[j] else e[j]\n",
    "def update_neg(G, S, e):\n",
    "    new_G = []\n",
    "    for g in G:\n",
    "        if const(g,e):\n",
    "            for i in range(len(e)):\n",
    "                if S[i]!='?' and S[i]!='Null' and e[i]!=S[i]:\n",
    "                    h = g.copy()\n",
    "                    h[i] = S[i]\n",
    "                    if h not in new_G: new_G.append(h)\n",
    "        else: new_G.append(g)\n",
    "    return new_G\n",
    "def sync(G, S): return [g for g in G if all(g[i]=='?' or g[i]==S[i] for i in range(len(S)))]\n",
    "data = pd.read_csv('Weather2.csv')\n",
    "instances = data.values.tolist()\n",
    "G = [['?']*len(instances[0][:-1]) for _ in range(len(instances[0][:-1]))]\n",
    "S = ['Null']*len(instances[0][:-1])\n",
    "for instance in instances:\n",
    "    e, l = instance[:-1], instance[-1]\n",
    "    print(\"Processing instance:\", e, \"Label:\", l)\n",
    "    if l=='Yes': update_pos(G,S,e)\n",
    "    else: G = update_neg(G,S,e)\n",
    "    print(\" (S):\", S)\n",
    "    print(\" (G):\", G)\n",
    "G = sync(G,S)\n",
    "print(\"Final  (S):\", S)\n",
    "print(\"Final  (G):\", G)"
   ]
  },
  {
   "cell_type": "code",
   "execution_count": 9,
   "id": "c87eee9c-1147-4d02-9898-df9bb5d5db14",
   "metadata": {},
   "outputs": [
    {
     "name": "stdout",
     "output_type": "stream",
     "text": [
      "Processing instance: ['sunny', 'warm', 'normal', 'strong', 'warm', 'same'] Label: yes\n",
      " (S): ['Null', 'Null', 'Null', 'Null', 'Null', 'Null']\n",
      " (G): []\n",
      "Processing instance: ['sunny', 'warm', 'high', 'strong', 'warm', 'same'] Label: yes\n",
      " (S): ['Null', 'Null', 'Null', 'Null', 'Null', 'Null']\n",
      " (G): []\n",
      "Processing instance: ['rainy', 'cold', 'high', 'strong', 'warm', 'change'] Label: no\n",
      " (S): ['Null', 'Null', 'Null', 'Null', 'Null', 'Null']\n",
      " (G): []\n",
      "Processing instance: ['sunny', 'warm', 'high', 'strong', 'cool', 'change'] Label: yes\n",
      " (S): ['Null', 'Null', 'Null', 'Null', 'Null', 'Null']\n",
      " (G): []\n",
      "Final (S): ['Null', 'Null', 'Null', 'Null', 'Null', 'Null']\n",
      "Final (G): []\n"
     ]
    }
   ],
   "source": [
    "import copy, pandas as pd\n",
    "\n",
    "def const(h, e): return all(x=='?' or x==y for x,y in zip(h,e))\n",
    "def update_pos(G, S, e):\n",
    "    for j in range(len(S)):\n",
    "        S[j] = '?' if S[j]!='Null' and S[j]!=e[j] else e[j]\n",
    "def update_neg(G, S, e):\n",
    "    new_G = []\n",
    "    for g in G:\n",
    "        if const(g,e):\n",
    "            for i in range(len(e)):\n",
    "                if S[i]!='?' and S[i]!='Null' and e[i]!=S[i]:\n",
    "                    h = g.copy()\n",
    "                    h[i] = S[i]\n",
    "                    if h not in new_G: new_G.append(h)\n",
    "        else: new_G.append(g)\n",
    "    return new_G\n",
    "def sync(G, S): return [g for g in G if all(g[i]=='?' or g[i]==S[i] for i in range(len(S)))]\n",
    "data = pd.read_csv('Weather2.csv')\n",
    "instances = data.values.tolist()\n",
    "G = [['?']*len(instances[0][:-1]) for _ in range(len(instances[0][:-1]))]\n",
    "S = ['Null']*len(instances[0][:-1])\n",
    "for instance in instances:\n",
    "    e, l = instance[:-1], instance[-1]\n",
    "    print(\"Processing instance:\", e, \"Label:\", l)\n",
    "    if l=='Yes': update_pos(G,S,e)\n",
    "    else: G = update_neg(G,S,e)\n",
    "    print(\" (S):\", S)\n",
    "    print(\" (G):\", G)\n",
    "G = sync(G,S)\n",
    "print(\"Final (S):\",S)\n",
    "print(\"Final (G):\",G)"
   ]
  },
  {
   "cell_type": "code",
   "execution_count": null,
   "id": "dd2cd8e5-5354-4e16-bd11-75ca386bc1cd",
   "metadata": {},
   "outputs": [],
   "source": []
  },
  {
   "cell_type": "code",
   "execution_count": null,
   "id": "12647d32-6a19-4138-aa34-b3f6006d9df8",
   "metadata": {},
   "outputs": [],
   "source": []
  },
  {
   "cell_type": "code",
   "execution_count": null,
   "id": "04974932-dd70-429f-ad10-c12d50a5166c",
   "metadata": {},
   "outputs": [],
   "source": []
  },
  {
   "cell_type": "code",
   "execution_count": null,
   "id": "9744317f-25d8-4624-8ff5-cd032cb0fb63",
   "metadata": {},
   "outputs": [],
   "source": []
  },
  {
   "cell_type": "code",
   "execution_count": null,
   "id": "90d1ef01-bfdf-46b5-a7a1-841fd8b1a6f0",
   "metadata": {},
   "outputs": [],
   "source": []
  },
  {
   "cell_type": "code",
   "execution_count": null,
   "id": "a7fadfd3-c2a5-4953-a957-77f42787deae",
   "metadata": {},
   "outputs": [],
   "source": []
  },
  {
   "cell_type": "code",
   "execution_count": null,
   "id": "adf689f5-7183-4c49-8c1b-ffd3efa1c86b",
   "metadata": {},
   "outputs": [],
   "source": []
  },
  {
   "cell_type": "code",
   "execution_count": null,
   "id": "38ef76f5-b7d6-4361-8abd-6015a9434000",
   "metadata": {},
   "outputs": [],
   "source": []
  },
  {
   "cell_type": "code",
   "execution_count": null,
   "id": "852dd1d4-59ab-499e-8f54-839dcc0455af",
   "metadata": {},
   "outputs": [],
   "source": []
  },
  {
   "cell_type": "code",
   "execution_count": null,
   "id": "18e7a898-9258-4237-9ec6-ae9588100d6f",
   "metadata": {},
   "outputs": [],
   "source": []
  },
  {
   "cell_type": "code",
   "execution_count": null,
   "id": "7b1f6a0d-21f1-47a0-b97a-b978d6c13c8c",
   "metadata": {},
   "outputs": [],
   "source": []
  }
 ],
 "metadata": {
  "kernelspec": {
   "display_name": "Python 3 (ipykernel)",
   "language": "python",
   "name": "python3"
  },
  "language_info": {
   "codemirror_mode": {
    "name": "ipython",
    "version": 3
   },
   "file_extension": ".py",
   "mimetype": "text/x-python",
   "name": "python",
   "nbconvert_exporter": "python",
   "pygments_lexer": "ipython3",
   "version": "3.12.5"
  }
 },
 "nbformat": 4,
 "nbformat_minor": 5
}
